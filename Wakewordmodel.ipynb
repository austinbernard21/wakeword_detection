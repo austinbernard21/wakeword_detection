{
 "cells": [
  {
   "cell_type": "code",
   "execution_count": 1,
   "metadata": {},
   "outputs": [],
   "source": [
    "import os \n",
    "from os.path import isdir, join\n",
    "from scipy.io import wavfile\n",
    "from pydub import AudioSegment\n",
    "import librosa\n",
    "import IPython\n",
    "import numpy as np\n",
    "import random as rand\n",
    "import python_speech_features\n",
    "import matplotlib.pyplot as plt\n",
    "%matplotlib inline"
   ]
  },
  {
   "cell_type": "code",
   "execution_count": 2,
   "metadata": {},
   "outputs": [],
   "source": [
    "def get_random_time_segment(segment_ms):\n",
    "    \"\"\"\n",
    "    Gets a random time segment of duration segment_ms in a 60,000 ms audio clip.\n",
    "    \n",
    "    Arguments:\n",
    "    segment_ms -- the duration of the audio clip in ms (\"ms\" stands for \"milliseconds\")\n",
    "    \n",
    "    Returns:\n",
    "    segment_time -- a tuple of (segment_start, segment_end) in ms\n",
    "    \"\"\"\n",
    "    \n",
    "    segment_start = np.random.randint(low=0, high=10000-segment_ms)   # Make sure segment doesn't run past the 10sec background \n",
    "    segment_end = segment_start + segment_ms -1\n",
    "    \n",
    "    return (segment_start, segment_end)"
   ]
  },
  {
   "cell_type": "code",
   "execution_count": 3,
   "metadata": {},
   "outputs": [
    {
     "data": {
      "image/png": "[encoded data removed]",
      "text/plain": [
       "<Figure size 432x288 with 1 Axes>"
      ]
     },
     "metadata": {
      "needs_background": "light"
     },
     "output_type": "display_data"
    }
   ],
   "source": [
    "background = AudioSegment.from_wav('audio/Recording (70) (online-audio-converter.com).wav')\n",
    "audio_clip = AudioSegment.from_wav('audio/test_rillakuma.wav')\n",
    "segment_start, segment_end = get_random_time_segment(2000)\n",
    "\n",
    "temp_file_name = 'insert_clip.wav'\n",
    "new_clip = background.overlay(audio_clip,position=segment_start)\n",
    "new_clip[segment_start:segment_end].export(temp_file_name, format=\"wav\")\n",
    "IPython.display.Audio(temp_file_name)\n",
    "\n",
    "\n",
    "signal, rate = librosa.load(temp_file_name, sr=8000)\n",
    "mfcc = python_speech_features.base.mfcc(signal, samplerate=rate, winstep=0.15, winlen=.2, nfft=2048, winfunc=np.hamming)\n",
    "dim_1, dim_2 = mfcc.shape\n",
    "fig = plt.figure()\n",
    "plt.imshow(mfcc, cmap='inferno', origin='lower', aspect='auto')\n",
    "reshape_dim = dim_1 * dim_2"
   ]
  },
  {
   "cell_type": "code",
   "execution_count": 4,
   "metadata": {},
   "outputs": [],
   "source": [
    "background_files = []\n",
    "for i in range(int(len(background) / 10000)):\n",
    "    t = i * 10000\n",
    "    newAudio = background[t:t+10000]\n",
    "    newAudio.export(f'audio/background/background_{i}.wav', format=\"wav\")\n",
    "    background_files.append(f'audio/background/background_{i}.wav')"
   ]
  },
  {
   "cell_type": "code",
   "execution_count": 5,
   "metadata": {},
   "outputs": [],
   "source": [
    "def create_sample(background, audio_clip):\n",
    "    segment_start, segment_end = get_random_time_segment(2000)\n",
    "\n",
    "    temp_file_name = 'insert_clip.wav'\n",
    "    new_clip = background.overlay(audio_clip,position=segment_start)\n",
    "    new_clip[segment_start:segment_end].export(temp_file_name, format=\"wav\")\n",
    "\n",
    "    signal, rate = librosa.load(temp_file_name, sr=8000)\n",
    "    mfcc = python_speech_features.base.mfcc(signal, samplerate=rate, winstep=0.15, winlen=.2, nfft=2048, winfunc=np.hamming)\n",
    "\n",
    "    return mfcc"
   ]
  },
  {
   "cell_type": "code",
   "execution_count": null,
   "outputs": [],
   "source": [
    "print('signal shapesignal.shape"
   ],
   "metadata": {
    "collapsed": false,
    "pycharm": {
     "name": "#%%\n"
    }
   }
  },
  {
   "cell_type": "code",
   "execution_count": null,
   "outputs": [],
   "source": [],
   "metadata": {
    "collapsed": false,
    "pycharm": {
     "name": "#%%\n"
    }
   }
  },
  {
   "cell_type": "code",
   "execution_count": 35,
   "metadata": {},
   "outputs": [
    {
     "data": {
      "text/plain": [
       "(16000,)"
      ]
     },
     "execution_count": 35,
     "metadata": {},
     "output_type": "execute_result"
    }
   ],
   "source": []
  },
  {
   "cell_type": "code",
   "execution_count": null,
   "metadata": {},
   "outputs": [],
   "source": []
  },
  {
   "cell_type": "code",
   "execution_count": null,
   "metadata": {},
   "outputs": [],
   "source": []
  },
  {
   "cell_type": "code",
   "execution_count": 6,
   "metadata": {},
   "outputs": [],
   "source": [
    "google_speech_path = 'audio/google_speech'\n",
    "pos_sample_path = 'audio/train'\n",
    "\n",
    "positive_samples = []\n",
    "for file in os.listdir(pos_sample_path):\n",
    "    audio_clip = AudioSegment.from_wav(join(pos_sample_path,file))\n",
    "    background = AudioSegment.from_wav(rand.choice(background_files))\n",
    "    positive_samples.append(create_sample(background,audio_clip))"
   ]
  },
  {
   "cell_type": "code",
   "execution_count": 7,
   "metadata": {},
   "outputs": [
    {
     "data": {
      "text/plain": [
       "(157, 13, 13)"
      ]
     },
     "execution_count": 7,
     "metadata": {},
     "output_type": "execute_result"
    }
   ],
   "source": [
    "np.array(positive_samples).shape"
   ]
  },
  {
   "cell_type": "code",
   "execution_count": 8,
   "metadata": {},
   "outputs": [],
   "source": [
    "negative_file_names = []\n",
    "for name in os.listdir(google_speech_path):\n",
    "    if isdir(join(google_speech_path, name)):\n",
    "        negative_file_names.append(name)\n",
    "        \n",
    "negative_file_names = negative_file_names[:-1]\n",
    "\n",
    "negative_samples = []\n",
    "for name in negative_file_names:\n",
    "    filepath = join(google_speech_path, name)\n",
    "    for file in os.listdir(filepath)[:5]:\n",
    "        audio_clip = AudioSegment.from_wav(join(filepath,file))\n",
    "        background = AudioSegment.from_wav(rand.choice(background_files))\n",
    "        negative_samples.append(create_sample(background,audio_clip))"
   ]
  },
  {
   "cell_type": "code",
   "execution_count": 9,
   "metadata": {},
   "outputs": [
    {
     "data": {
      "text/plain": [
       "(150, 13, 13)"
      ]
     },
     "execution_count": 9,
     "metadata": {},
     "output_type": "execute_result"
    }
   ],
   "source": [
    "np.array(negative_samples).shape"
   ]
  },
  {
   "cell_type": "code",
   "execution_count": 10,
   "metadata": {},
   "outputs": [],
   "source": [
    "X_train = []\n",
    "y_train = []\n",
    "\n",
    "for i in range(len(positive_samples)):\n",
    "    X_train.append(positive_samples[i])\n",
    "    y_train.append(1)\n",
    "\n",
    "for i in range(len(negative_samples)):\n",
    "    X_train.append(negative_samples[i])\n",
    "    y_train.append(0)\n",
    "    \n",
    "from sklearn.utils import shuffle\n",
    "X_train, y_train = shuffle(X_train, y_train)"
   ]
  },
  {
   "cell_type": "code",
   "execution_count": 11,
   "metadata": {},
   "outputs": [],
   "source": [
    "from sklearn.svm import SVC\n",
    "from sklearn.neighbors import KNeighborsClassifier"
   ]
  },
  {
   "cell_type": "code",
   "execution_count": 12,
   "metadata": {},
   "outputs": [
    {
     "data": {
      "text/plain": [
       "array([1, 1, 0, 0, 0, 1, 0, 0, 1, 1, 0, 0, 1, 1, 1, 1, 1, 1, 0, 1, 1, 0,\n",
       "       1, 1, 1, 0, 0, 1, 0, 0, 1, 0, 0, 0, 0, 1, 1, 0, 0, 0, 1, 1, 1, 0,\n",
       "       1, 1, 1, 1, 1, 1, 1, 0, 1, 1, 0, 0, 1, 1, 0, 1, 1, 0, 0, 0, 0, 1,\n",
       "       1, 1, 1, 0, 1, 0, 1, 0, 0, 0, 1, 1, 0, 1, 0, 0, 0, 0, 0, 1, 0, 0,\n",
       "       0, 0, 1, 1, 1, 0, 0, 1, 1, 0, 0, 0, 0, 0, 0, 1, 1, 1, 1, 0, 1, 1,\n",
       "       1, 0, 1, 1, 0, 0, 0, 1, 0, 1, 0, 1, 0, 1, 1, 0, 0, 0, 0, 0, 1, 0,\n",
       "       1, 0, 0, 0, 0, 0, 0, 1, 0, 1, 0, 1, 0, 0, 1, 1, 1, 1, 0, 1, 0, 1,\n",
       "       0, 0, 1, 0, 0, 0, 1, 0, 0, 0, 0, 0, 1, 1, 0, 0, 1, 0, 1, 0, 0, 1,\n",
       "       0, 1, 1, 1, 1, 1, 1, 1, 0, 1, 1, 0, 0, 1, 1, 1, 0, 0, 0, 0, 1, 1,\n",
       "       1, 0, 1, 1, 0, 0, 0, 0, 1, 0, 0, 1, 1, 0, 0, 0, 0, 0, 0, 1, 1, 0,\n",
       "       1, 0, 1, 0, 0, 1, 0, 1, 1, 0, 1, 0, 1, 1, 1, 1, 1, 0, 1, 0, 1, 0,\n",
       "       1, 0, 0, 1, 1, 0, 0, 1, 1, 1, 1, 1, 0, 0, 0, 1, 0, 1, 1, 1, 1, 0,\n",
       "       0, 1, 0, 0, 1, 0, 1, 1, 1, 0, 1, 1, 1, 0, 1, 1, 0, 1, 1, 1, 1, 1,\n",
       "       0, 0, 0, 0, 0, 0, 1, 1, 1, 1, 1, 0, 1, 0, 1, 1, 0, 0, 1, 1])"
      ]
     },
     "execution_count": 12,
     "metadata": {},
     "output_type": "execute_result"
    }
   ],
   "source": [
    "np.array(y_train[:-1])"
   ]
  },
  {
   "cell_type": "code",
   "execution_count": 13,
   "metadata": {},
   "outputs": [
    {
     "name": "stderr",
     "output_type": "stream",
     "text": [
      "C:\\Users\\thebe\\Anaconda3\\envs\\tensorflow_env\\lib\\site-packages\\ipykernel_launcher.py:2: DataConversionWarning: A column-vector y was passed when a 1d array was expected. Please change the shape of y to (n_samples, ), for example using ravel().\n",
      "  \n"
     ]
    },
    {
     "data": {
      "text/plain": [
       "KNeighborsClassifier(algorithm='auto', leaf_size=30, metric='minkowski',\n",
       "                     metric_params=None, n_jobs=None, n_neighbors=5, p=2,\n",
       "                     weights='uniform')"
      ]
     },
     "execution_count": 13,
     "metadata": {},
     "output_type": "execute_result"
    }
   ],
   "source": [
    "model = KNeighborsClassifier()\n",
    "model.fit(np.array(X_train[:-1]).reshape(-1,reshape_dim),np.array(y_train[:-1]).reshape(-1,1))"
   ]
  },
  {
   "cell_type": "code",
   "execution_count": 14,
   "metadata": {},
   "outputs": [
    {
     "name": "stdout",
     "output_type": "stream",
     "text": [
      "[1]\n",
      "1\n"
     ]
    }
   ],
   "source": [
    "# from sklearn import datasets\n",
    "# data = datasets.load_digits()\n",
    "# data.data.shape\n",
    "# np.array(X_train[:-1]).reshape(-1,325).shape\n",
    "print(model.predict(np.array(X_train[-1]).reshape(-1,reshape_dim)))\n",
    "print(y_train[-1])\n",
    "\n",
    "test_positive = AudioSegment.from_wav('audio/test_rillakuma.wav')\n",
    "test_negative = AudioSegment.from_wav('audio/google_speech/dog/402e2977_nohash_0.wav')\n",
    "test_negative_1 = AudioSegment.from_wav('audio/google_speech/marvin/3c8836dc_nohash_0.wav')\n",
    "pos_test_sample = create_sample(background, test_positive)\n",
    "neg_test_sample_1 = create_sample(background, test_negative)\n",
    "neg_test_sample_2 = create_sample(background, test_negative_1)"
   ]
  },
  {
   "cell_type": "code",
   "execution_count": 15,
   "metadata": {},
   "outputs": [
    {
     "name": "stdout",
     "output_type": "stream",
     "text": [
      "prediction:  [1]  label is : 1\n",
      "prediction:  [0]  label is : 0\n",
      "prediction:  [0]  label is : 0\n"
     ]
    }
   ],
   "source": [
    "print('prediction: ', model.predict(np.array(pos_test_sample).reshape(1,reshape_dim)), ' label is : 1' )\n",
    "print('prediction: ', model.predict(np.array(neg_test_sample_1).reshape(1,reshape_dim)), ' label is : 0' )\n",
    "print('prediction: ', model.predict(np.array(neg_test_sample_2).reshape(1,reshape_dim)), ' label is : 0' )"
   ]
  },
  {
   "cell_type": "code",
   "execution_count": 16,
   "metadata": {},
   "outputs": [
    {
     "data": {
      "text/plain": [
       "0.990228013029316"
      ]
     },
     "execution_count": 16,
     "metadata": {},
     "output_type": "execute_result"
    }
   ],
   "source": [
    "model.score(np.array(X_train).reshape(-1,reshape_dim),np.array(y_train).reshape(-1,1))"
   ]
  },
  {
   "cell_type": "code",
   "execution_count": 17,
   "metadata": {},
   "outputs": [
    {
     "data": {
      "text/plain": [
       "array([1, 1, 0, 0, 0, 1, 0, 0, 1, 1, 0, 0, 1, 1, 1, 1, 1, 1, 0, 1, 1, 0,\n",
       "       1, 1, 1, 0, 0, 1, 0, 0, 1, 0, 0, 0, 0, 1, 1, 0, 0, 0, 1, 1, 1, 0,\n",
       "       1, 1, 1, 1, 1, 1, 1, 0, 1, 1, 0, 0, 1, 1, 0, 1, 1, 0, 0, 0, 0, 1,\n",
       "       1, 1, 1, 0, 1, 0, 1, 0, 0, 0, 1, 1, 0, 1, 0, 0, 0, 0, 0, 1, 0, 0,\n",
       "       0, 0, 1, 1, 1, 0, 0, 1, 1, 0, 0, 1, 0, 0, 0, 1, 1, 1, 1, 0, 1, 1,\n",
       "       1, 0, 1, 1, 0, 0, 0, 1, 0, 1, 0, 1, 0, 1, 1, 0, 0, 0, 0, 0, 1, 0,\n",
       "       1, 0, 0, 0, 0, 0, 0, 1, 0, 1, 0, 1, 1, 0, 1, 1, 1, 1, 0, 1, 0, 1,\n",
       "       0, 0, 1, 0, 0, 0, 1, 0, 0, 0, 0, 0, 1, 1, 0, 0, 1, 0, 1, 0, 0, 1,\n",
       "       0, 1, 1, 1, 1, 1, 1, 1, 0, 1, 1, 0, 0, 1, 1, 1, 0, 0, 0, 0, 1, 1,\n",
       "       1, 0, 1, 1, 0, 0, 0, 0, 1, 0, 0, 1, 1, 0, 0, 0, 0, 0, 0, 1, 1, 0,\n",
       "       1, 1, 1, 0, 0, 1, 0, 1, 1, 0, 1, 0, 1, 1, 1, 1, 1, 0, 1, 0, 1, 0,\n",
       "       1, 0, 0, 1, 1, 0, 0, 1, 1, 1, 1, 1, 0, 0, 0, 1, 0, 1, 1, 1, 1, 0,\n",
       "       0, 1, 0, 0, 1, 0, 1, 1, 1, 0, 1, 1, 1, 0, 1, 1, 0, 1, 1, 1, 1, 1,\n",
       "       0, 0, 0, 0, 0, 0, 1, 1, 1, 1, 1, 0, 1, 0, 1, 1, 0, 0, 1, 1, 1])"
      ]
     },
     "execution_count": 17,
     "metadata": {},
     "output_type": "execute_result"
    }
   ],
   "source": [
    "model.predict(np.array(X_train).reshape(-1,reshape_dim))"
   ]
  },
  {
   "cell_type": "code",
   "execution_count": 18,
   "metadata": {},
   "outputs": [],
   "source": [
    "path = 'audio/test'\n",
    "\n",
    "positive = []\n",
    "for file in os.listdir(path):\n",
    "    audio_clip = AudioSegment.from_wav(join(path,file))\n",
    "    background = AudioSegment.from_wav(rand.choice(background_files))\n",
    "    positive.append(create_sample(background,audio_clip))"
   ]
  },
  {
   "cell_type": "code",
   "execution_count": 19,
   "metadata": {},
   "outputs": [],
   "source": [
    "negative = []\n",
    "for name in negative_file_names:\n",
    "    filepath = join(google_speech_path, name)\n",
    "    for file in os.listdir(filepath)[10:12]:\n",
    "        audio_clip = AudioSegment.from_wav(join(filepath,file))\n",
    "        background = AudioSegment.from_wav(rand.choice(background_files))\n",
    "        negative.append(create_sample(background,audio_clip))"
   ]
  },
  {
   "cell_type": "code",
   "execution_count": 20,
   "metadata": {},
   "outputs": [
    {
     "name": "stdout",
     "output_type": "stream",
     "text": [
      "0.967741935483871\n",
      "0.1\n"
     ]
    }
   ],
   "source": [
    "print(sum(model.predict(np.array(positive).reshape(-1,reshape_dim)))/len(positive))\n",
    "print(sum(model.predict(np.array(negative).reshape(-1,reshape_dim)))/len(negative))"
   ]
  },
  {
   "cell_type": "code",
   "execution_count": 21,
   "metadata": {},
   "outputs": [
    {
     "name": "stdout",
     "output_type": "stream",
     "text": [
      "[1 0 1 1 1 1 1 1 1 1 1 1 1 1 1 1 1 1 1 1 1 1 1 1 1 1 1 1 1 1 1]\n",
      "[0 0 0 0 0 0 0 0 0 0 0 1 0 0 0 0 0 0 0 0 1 0 0 0 0 1 0 0 0 0 0 0 0 0 0 0 0\n",
      " 0 0 0 1 0 0 0 0 0 1 0 0 0 0 0 0 0 0 1 0 0 0 0]\n"
     ]
    }
   ],
   "source": [
    "print(model.predict(np.array(positive).reshape(-1,reshape_dim)))\n",
    "print(model.predict(np.array(negative).reshape(-1,reshape_dim)))"
   ]
  },
  {
   "cell_type": "code",
   "execution_count": null,
   "metadata": {},
   "outputs": [],
   "source": []
  },
  {
   "cell_type": "code",
   "execution_count": 22,
   "metadata": {},
   "outputs": [],
   "source": [
    "# X_train_neg = rand.choices(negative_sample_files, k=100)"
   ]
  },
  {
   "cell_type": "code",
   "execution_count": 23,
   "metadata": {},
   "outputs": [],
   "source": [
    "synth_predictions = model.predict(np.array(positive).reshape(-1,reshape_dim))"
   ]
  },
  {
   "cell_type": "code",
   "execution_count": 24,
   "metadata": {},
   "outputs": [],
   "source": [
    "false_preds = [i for i, x in enumerate(synth_predictions) if not x]"
   ]
  },
  {
   "cell_type": "code",
   "execution_count": 25,
   "metadata": {},
   "outputs": [],
   "source": [
    "bad_files = []\n",
    "for i in false_preds:\n",
    "    bad_files.append(join(path,os.listdir(path)[i]))"
   ]
  },
  {
   "cell_type": "code",
   "execution_count": 26,
   "metadata": {},
   "outputs": [
    {
     "data": {
      "text/plain": [
       "['audio/test\\\\Recording (70).wav']"
      ]
     },
     "execution_count": 26,
     "metadata": {},
     "output_type": "execute_result"
    }
   ],
   "source": [
    "bad_files"
   ]
  },
  {
   "cell_type": "code",
   "execution_count": 27,
   "metadata": {},
   "outputs": [],
   "source": [
    "def preprocess_audio(filename):\n",
    "    # Trim or pad audio segment to 2000ms\n",
    "    padding = AudioSegment.silent(duration=2000)\n",
    "    segment = AudioSegment.from_wav(filename)[:2000]\n",
    "    segment = padding.overlay(segment)\n",
    "    # Set frame rate to 44100\n",
    "    segment = segment.set_frame_rate(44100)\n",
    "    # Export as wav\n",
    "    return segment"
   ]
  },
  {
   "cell_type": "code",
   "execution_count": 28,
   "metadata": {},
   "outputs": [],
   "source": [
    "path = 'audio/test'\n",
    "\n",
    "positive = []\n",
    "for file in os.listdir(path):\n",
    "    temp_file_name = 'insert_clip.wav'\n",
    "    new_clip = preprocess_audio(join(path,file))\n",
    "    new_clip.export(temp_file_name, format=\"wav\")\n",
    "    signal, rate = librosa.load(temp_file_name, sr=8000)\n",
    "    mfcc = python_speech_features.base.mfcc(signal, samplerate=rate, winstep=0.15, winlen=.2, nfft=2048, winfunc=np.hamming)\n",
    "    positive.append(mfcc)"
   ]
  },
  {
   "cell_type": "code",
   "execution_count": 29,
   "metadata": {},
   "outputs": [
    {
     "data": {
      "text/plain": [
       "array([1, 1, 1, 1, 1, 1, 1, 1, 1, 1, 1, 1, 1, 1, 1, 1, 1, 1, 1, 1, 1, 1,\n",
       "       1, 1, 1, 1, 1, 1, 1, 1, 1])"
      ]
     },
     "execution_count": 29,
     "metadata": {},
     "output_type": "execute_result"
    }
   ],
   "source": [
    "model.predict(np.array(positive).reshape(-1,reshape_dim))"
   ]
  },
  {
   "cell_type": "code",
   "execution_count": 30,
   "metadata": {},
   "outputs": [],
   "source": [
    "import pickle"
   ]
  },
  {
   "cell_type": "code",
   "execution_count": 31,
   "metadata": {},
   "outputs": [],
   "source": [
    "filename = 'initial_model.sav'\n",
    "pickle.dump(model, open(filename, 'wb'))"
   ]
  },
  {
   "cell_type": "code",
   "execution_count": null,
   "metadata": {},
   "outputs": [],
   "source": []
  }
 ],
 "metadata": {
  "kernelspec": {
   "display_name": "Python 3",
   "language": "python",
   "name": "python3"
  },
  "language_info": {
   "codemirror_mode": {
    "name": "ipython",
    "version": 3
   },
   "file_extension": ".py",
   "mimetype": "text/x-python",
   "name": "python",
   "nbconvert_exporter": "python",
   "pygments_lexer": "ipython3",
   "version": "3.7.4"
  },
  "pycharm": {
   "stem_cell": {
    "cell_type": "raw",
    "source": [],
    "metadata": {
     "collapsed": false
    }
   }
  }
 },
 "nbformat": 4,
 "nbformat_minor": 2
}